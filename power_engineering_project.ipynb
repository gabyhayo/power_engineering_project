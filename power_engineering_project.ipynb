{
 "cells": [
  {
   "cell_type": "code",
   "execution_count": 54,
   "metadata": {},
   "outputs": [],
   "source": [
    "import numpy as np"
   ]
  },
  {
   "cell_type": "markdown",
   "metadata": {},
   "source": [
    "### Question 2"
   ]
  },
  {
   "cell_type": "code",
   "execution_count": 55,
   "metadata": {},
   "outputs": [
    {
     "name": "stdout",
     "output_type": "stream",
     "text": [
      "les titres en vapeur pour un transformation isentropique xTis sont pour respectivement une pression P de 0.5 bar, 1 bar et 2 bars : [0.8918468731735826, 0.9225506886456442, 0.9576394745493788]\n",
      "l'enthalpie  en J/kg pour un transformation isentropique hTis est pour respectivement une pression P de 0.5 bar, 1 bar et 2 bars : [2395957.4087375803, 2500110.5167789776, 2612973.15948627]\n"
     ]
    }
   ],
   "source": [
    "D0 = 1201.1 #kg.s-1\n",
    "D4 = 981.5 #kg.s-1\n",
    "cp= 4.18*10**3 #J.K-1.kg-1\n",
    "deltaT = 10 #K\n",
    "TT = np.array([81.3,99.6,120.2])+273.15 #K\n",
    "hTV = np.array([2645.215,2674.948,2706.231])*10**3 #J.kg-1\n",
    "hTL = np.array([340.542,417.504,504.704])*10**3 #J.kg-1\n",
    "sE = 6.88981*10**3 #J.K-1.kg-1\n",
    "hE = 2946.097*10**3 #J.kg-1\n",
    "sTV = np.array([7.59300,7.35885,7.12689])*10**3 #J.K-1.kg-1\n",
    "sTL = np.array([1.09120,1.30276,1.53017])*10**3 #J.K-1.kg-1\n",
    "\n",
    "xTis = [] \n",
    "hTis = []\n",
    "\n",
    "for i in range(3):\n",
    "    xTis += [(sE-sTL[i])/(sTV[i]-sTL[i])] #adimensionné\n",
    "    hTis += [(xTis[i]*hTV[i] + (1-xTis[i])*hTL[i])]  #J.kg-1\n",
    "    \n",
    "print(f\"les titres en vapeur pour un transformation isentropique xTis sont pour respectivement une pression P de 0.5 bar, 1 bar et 2 bars : {xTis}\")\n",
    "print(f\"l'enthalpie  en J/kg pour un transformation isentropique hTis est pour respectivement une pression P de 0.5 bar, 1 bar et 2 bars : {hTis}\")"
   ]
  },
  {
   "cell_type": "code",
   "execution_count": 56,
   "metadata": {},
   "outputs": [
    {
     "name": "stdout",
     "output_type": "stream",
     "text": [
      "l'enthalpie en J/kg hT est pour respectivement une pression P de 0.5 bar, 1 bar et 2 bars : [2497183.0935298656, 2582172.029691646, 2674267.9461407964]\n",
      "les titres en vapeur xT sont pour respectivement une pression P de 0.5 bar, 1 bar et 2 bars : [0.9357688025719335, 0.9589022051894293, 0.9854814163718166]\n",
      "les entropies en J/kg.K sT sont pour respectivement une pression P de 0.5 bar, 1 bar et 2 bars : [7175.3816005621975, 7109.958055825651, 7045.633552636475]\n"
     ]
    }
   ],
   "source": [
    "eta = 0.816\n",
    "\n",
    "hT = []\n",
    "xT = []\n",
    "sT = []\n",
    "for i in range (3):\n",
    "    hT += [(hE - eta*(hE-hTis[i]))] #J.kg-1\n",
    "    xT += [(hT[i] - hTL[i])/(hTV[i]-hTL[i])] #adimensionné\n",
    "    sT += [(xT[i]*sTV[i] + (1 - xT[i])*sTL[i])] #J.K-1.kg-1\n",
    "    \n",
    "print(f\"l'enthalpie en J/kg hT est pour respectivement une pression P de 0.5 bar, 1 bar et 2 bars : {hT}\")\n",
    "print(f\"les titres en vapeur xT sont pour respectivement une pression P de 0.5 bar, 1 bar et 2 bars : {xT}\")\n",
    "print(f\"les entropies en J/kg.K sT sont pour respectivement une pression P de 0.5 bar, 1 bar et 2 bars : {sT}\")"
   ]
  },
  {
   "cell_type": "markdown",
   "metadata": {},
   "source": [
    "### Question 1"
   ]
  },
  {
   "cell_type": "code",
   "execution_count": 57,
   "metadata": {},
   "outputs": [
    {
     "name": "stdout",
     "output_type": "stream",
     "text": [
      "les débits en kg/s sont pour respectivement une pression P de 0.5 bar, 1 bar et 2 bars : [57.65705101975208, 87.207885824505, 118.2521229729358]\n",
      "les débits relatifs sont pour respectivement une pression P de 0.5 bar, 1 bar et 2 bars : [0.04800353927212729, 0.07260668206186413, 0.09845318705597852]\n",
      "les puissances en MW sont pour respectivement une pression P de 0.5 bar, 1 bar et 2 bars : [124.34556556094537, 188.77612238130524, 256.5555425566893]\n"
     ]
    }
   ],
   "source": [
    "D7 = [] #kg.s-1\n",
    "Drel = [] #adimensionné\n",
    "Q = [] #MW\n",
    "\n",
    "hI = 165.024*10**3 #J/kg\n",
    "TI = 39.1+273.15 #K\n",
    "#car on a les mêmes conditions en I que pour le cycle simple\n",
    "\n",
    "for i in range (3):\n",
    "    D7 += [D4*(cp*(TT[i]-deltaT-TI))/(cp*(TT[i]-deltaT-TI)+hT[i]-hTL[i])]\n",
    "    Drel += [D7[i]/D0]\n",
    "    Q += [D7[i]*(hT[i]-hTL[i])/10**6]\n",
    "    \n",
    "print(f\"les débits en kg/s sont pour respectivement une pression P de 0.5 bar, 1 bar et 2 bars : {D7}\")\n",
    "print (f\"les débits relatifs sont pour respectivement une pression P de 0.5 bar, 1 bar et 2 bars : {Drel}\")\n",
    "print (f\"les puissances en MW sont pour respectivement une pression P de 0.5 bar, 1 bar et 2 bars : {Q}\")"
   ]
  },
  {
   "cell_type": "code",
   "execution_count": 58,
   "metadata": {},
   "outputs": [
    {
     "name": "stdout",
     "output_type": "stream",
     "text": [
      "l'enthalpie en J/kg au point V est pour respectivement une pression P de 0.5 bar, 1 bar et 2 bars : [299619.99999999994, 376114.0, 462221.9999999999]\n"
     ]
    }
   ],
   "source": [
    "hV = []\n",
    "\n",
    "for i in range (3):\n",
    "    hV += [hI + cp*(TT[i]-deltaT-TI)] #J.kg-1\n",
    "\n",
    "print(f\"l'enthalpie en J/kg au point V est pour respectivement une pression P de 0.5 bar, 1 bar et 2 bars : {hV}\")"
   ]
  },
  {
   "cell_type": "markdown",
   "metadata": {},
   "source": [
    "### Question 2 suite\n"
   ]
  },
  {
   "cell_type": "code",
   "execution_count": 59,
   "metadata": {},
   "outputs": [
    {
     "name": "stdout",
     "output_type": "stream",
     "text": [
      "les puissances fournies par la turbine en MW sont pour respectivement une pression P de 0.5 bar, 1 bar et 2 bars : [633.9370803256951, 620.3414166752503, 600.3159871583712]\n"
     ]
    }
   ],
   "source": [
    "hG = 2287.918*10**3 #J.kg-1\n",
    "#car on est dans les mêmes conditions que précédemment\n",
    "\n",
    "WBP = [] \n",
    "for i in range (3) : \n",
    "    WBP += [(D4*hE-D7[i]*hT[i]-(D4-D7[i])*hG)/10**6] #MW\n",
    "\n",
    "print(f\"les puissances fournies par la turbine en MW sont pour respectivement une pression P de 0.5 bar, 1 bar et 2 bars : {WBP}\")"
   ]
  },
  {
   "cell_type": "markdown",
   "metadata": {},
   "source": [
    "### Question 3"
   ]
  },
  {
   "cell_type": "code",
   "execution_count": 60,
   "metadata": {},
   "outputs": [
    {
     "name": "stdout",
     "output_type": "stream",
     "text": [
      "l'enthalpie en J/kg hL est pour respectivement une pression P de 0.5 bar, 1 bar et 2 bars : [420455.62404614966, 484004.83189932257, 555546.7970095214]\n"
     ]
    }
   ],
   "source": [
    "D2 = 99.4 #kg.s-1\n",
    "D3 = 120.1 #kg.s-1\n",
    "hK = 1154.641*10**3 #J.kg-1\n",
    "hJ = 781.028*10**3 #J.kg-1\n",
    "\n",
    "hL = []\n",
    "\n",
    "for i in range (3):\n",
    "    hL += [D2/D0*hK + D3/D0*hJ + D7[i]/D0*(hTL[i]-hV[i])+D4/D0*hV[i]]\n",
    "print(f\"l'enthalpie en J/kg hL est pour respectivement une pression P de 0.5 bar, 1 bar et 2 bars : {hL}\")"
   ]
  },
  {
   "cell_type": "code",
   "execution_count": 61,
   "metadata": {},
   "outputs": [
    {
     "name": "stdout",
     "output_type": "stream",
     "text": [
      "l'enthalpie en J/kg hM est pour respectivement une pression P de 0.5 bar, 1 bar et 2 bars : [427883.00293503853, 491432.21078821144, 562974.1758984103]\n"
     ]
    }
   ],
   "source": [
    "rho = 1/0.001132990 #kg.m-3\n",
    "eta2 = 0.9\n",
    "PM = 70*10**5 #Pa\n",
    "PL = 11*10**5 #Pa\n",
    "\n",
    "\n",
    "hM = []\n",
    "\n",
    "for i in range (3):\n",
    "    hM += [hL[i] + (PM - PL)/(eta2*rho)]\n",
    "    \n",
    "print(f\"l'enthalpie en J/kg hM est pour respectivement une pression P de 0.5 bar, 1 bar et 2 bars : {hM}\")"
   ]
  },
  {
   "cell_type": "markdown",
   "metadata": {},
   "source": [
    "### Question 4 pour D_0 constant"
   ]
  },
  {
   "cell_type": "code",
   "execution_count": 62,
   "metadata": {},
   "outputs": [
    {
     "name": "stdout",
     "output_type": "stream",
     "text": [
      "[0.3077421683875659, 0.31134574351709465, 0.31388189909582953]\n"
     ]
    }
   ],
   "source": [
    "Wpompealim = 8.92 #MW\n",
    "WHP = 249.17 #MW\n",
    "hH = 163.353*10**3 #J.kg-1\n",
    "hA = 2788.745*10**3 #J.kg-1\n",
    "\n",
    "QGV = []\n",
    "etaTot = []\n",
    "Wpompeext = []\n",
    "\n",
    "for i in range (3) :\n",
    "    Wpompeext += [(D4-D7[i])*(hI-hH)/10**6]\n",
    "    QGV = D0*(hA-hM[i])/10**6\n",
    "    etaTot += [(WHP + WBP[i] - Wpompealim - Wpompeext[i])/QGV]\n",
    "\n",
    "print (etaTot)"
   ]
  },
  {
   "cell_type": "markdown",
   "metadata": {},
   "source": [
    "### Question 4 pour Q_GV constant"
   ]
  },
  {
   "cell_type": "code",
   "execution_count": 87,
   "metadata": {},
   "outputs": [
    {
     "name": "stdout",
     "output_type": "stream",
     "text": [
      "[1257.7246802262655, 1292.5007911453674, 1334.025863965478]\n"
     ]
    }
   ],
   "source": [
    "QGV = 2970*10**6 #W\n",
    "D0 =[]\n",
    "\n",
    "for i in range (3):\n",
    "    D0+=[QGV/(hA-0.083*hK-0.099*hJ\n",
    "             -0.817*(cp*(TT[i]-deltaT-TI))*(hTL[i]-hV[i])/(cp*(TT[i]-deltaT-TI)+hT[i]-hTL[i])\n",
    "            -0.817*hV[i]-(PM - PL)/(eta2*rho))]\n",
    "print(D0)"
   ]
  },
  {
   "cell_type": "code",
   "execution_count": 88,
   "metadata": {},
   "outputs": [],
   "source": [
    "D1 = np.array(D0)*0.917\n",
    "D2 = np.array(D0)*0.083\n",
    "D3 = np.array(D0)*0.099\n",
    "D4 = np.array(D0)*0.817"
   ]
  },
  {
   "cell_type": "code",
   "execution_count": 89,
   "metadata": {},
   "outputs": [
    {
     "name": "stdout",
     "output_type": "stream",
     "text": [
      "les débits en kg/s sont pour respectivement une pression P de 0.5 bar, 1 bar et 2 bars : [60.36285346739484, 93.82494710342226, 131.31216102957552]\n",
      "les débits relatifs sont pour respectivement une pression P de 0.5 bar, 1 bar et 2 bars : [0.047993694022554705, 0.07259179084933325, 0.09843299487405861]\n",
      "les puissances en MW sont pour respectivement une pression P de 0.5 bar, 1 bar et 2 bars : [130.18101031050546, 203.09986338228794, 284.8901302596016]\n"
     ]
    }
   ],
   "source": [
    "D7 = [] #kg.s-1\n",
    "Drel = [] #adimensionné\n",
    "Q = [] #MW\n",
    "\n",
    "hI = 165.024*10**3 #J/kg\n",
    "TI = 39.1+273.15 #K\n",
    "#car on a les mêmes conditions en I que pour le cycle simple\n",
    "\n",
    "for i in range (3):\n",
    "    D7 += [D4[i]*(cp*(TT[i]-deltaT-TI))/(cp*(TT[i]-deltaT-TI)+hT[i]-hTL[i])]\n",
    "    Drel += [D7[i]/D0[i]]\n",
    "    Q += [D7[i]*(hT[i]-hTL[i])/10**6]\n",
    "    \n",
    "print(f\"les débits en kg/s sont pour respectivement une pression P de 0.5 bar, 1 bar et 2 bars : {D7}\")\n",
    "print (f\"les débits relatifs sont pour respectivement une pression P de 0.5 bar, 1 bar et 2 bars : {Drel}\")\n",
    "print (f\"les puissances en MW sont pour respectivement une pression P de 0.5 bar, 1 bar et 2 bars : {Q}\")"
   ]
  },
  {
   "cell_type": "code",
   "execution_count": 90,
   "metadata": {},
   "outputs": [
    {
     "name": "stdout",
     "output_type": "stream",
     "text": [
      "les puissances fournies par la turbine en MW sont pour respectivement une pression P de 0.5 bar, 1 bar et 2 bars : [663.6872751979432, 667.4109807310858, 666.6162737087608]\n"
     ]
    }
   ],
   "source": [
    "hG = 2287.918*10**3 #J.kg-1\n",
    "#car on est dans les mêmes conditions que précédemment\n",
    "\n",
    "WBP = [] \n",
    "for i in range (3) : \n",
    "    WBP += [(D4[i]*hE-D7[i]*hT[i]-(D4[i]-D7[i])*hG)/10**6] #MW\n",
    "\n",
    "print(f\"les puissances fournies par la turbine en MW sont pour respectivement une pression P de 0.5 bar, 1 bar et 2 bars : {WBP}\")"
   ]
  },
  {
   "cell_type": "code",
   "execution_count": 91,
   "metadata": {
    "scrolled": true
   },
   "outputs": [
    {
     "name": "stdout",
     "output_type": "stream",
     "text": [
      "l'enthalpie en J/kg hL est pour respectivement une pression P de 0.5 bar, 1 bar et 2 bars : [419910.5129467909, 483446.6872232539, 554973.9794882396]\n"
     ]
    }
   ],
   "source": [
    "hK = 1154.641*10**3 #J.kg-1\n",
    "hJ = 781.028*10**3 #J.kg-1\n",
    "\n",
    "hL = []\n",
    "sL = []\n",
    "\n",
    "for i in range (3):\n",
    "    hL += [D2[i]/D0[i]*hK + D3[i]/D0[i]*hJ + D7[i]/D0[i]*(hTL[i]-hV[i])+D4[i]/D0[i]*hV[i]]\n",
    "print(f\"l'enthalpie en J/kg hL est pour respectivement une pression P de 0.5 bar, 1 bar et 2 bars : {hL}\")"
   ]
  },
  {
   "cell_type": "code",
   "execution_count": 92,
   "metadata": {},
   "outputs": [
    {
     "name": "stdout",
     "output_type": "stream",
     "text": [
      "l'enthalpie en J/kg hM est pour respectivement une pression P de 0.5 bar, 1 bar et 2 bars : [427337.89183567977, 490874.06611214275, 562401.3583771285]\n"
     ]
    }
   ],
   "source": [
    "rho = 1/0.001132990 #kg.m-3\n",
    "eta2 = 0.9\n",
    "PM = 70*10**5 #Pa\n",
    "PL = 11*10**5 #Pa\n",
    "\n",
    "\n",
    "hM = []\n",
    "\n",
    "for i in range (3):\n",
    "    hM += [hL[i] + (PM - PL)/(eta2*rho)]\n",
    "    \n",
    "print(f\"l'enthalpie en J/kg hM est pour respectivement une pression P de 0.5 bar, 1 bar et 2 bars : {hM}\")"
   ]
  },
  {
   "cell_type": "code",
   "execution_count": 93,
   "metadata": {},
   "outputs": [
    {
     "name": "stdout",
     "output_type": "stream",
     "text": [
      "[0.30774312184101904, 0.3114281522987616, 0.3140622741982794]\n"
     ]
    }
   ],
   "source": [
    "etaTot = []\n",
    "Wpompeext = []\n",
    "WHP = []\n",
    "\n",
    "hC = 2562.578*10**3 #J.kg-1\n",
    "hB = 2788.745*10**3 #J.kg-1\n",
    "Wpompealim = 8.92*10**6 #W\n",
    "\n",
    "for i in range (3) :\n",
    "    Wpompeext += [(D4[i]-D7[i])*(hI-hH)]\n",
    "    WHP += [D1[i]*(hB-hC)] #W\n",
    "    etaTot += [(WHP[i] + WBP[i]*10**6 - Wpompealim - Wpompeext[i])/QGV]\n",
    "\n",
    "print (etaTot)"
   ]
  },
  {
   "cell_type": "code",
   "execution_count": 94,
   "metadata": {},
   "outputs": [
    {
     "data": {
      "text/plain": [
       "[2970000000.0, 2969999999.9999995, 2970000000.0]"
      ]
     },
     "execution_count": 94,
     "metadata": {},
     "output_type": "execute_result"
    }
   ],
   "source": [
    "Qtest = []\n",
    "for i in range (3):\n",
    "    Qtest+=[D0[i]*(hA-hM[i])]\n",
    "Qtest"
   ]
  },
  {
   "cell_type": "code",
   "execution_count": null,
   "metadata": {},
   "outputs": [],
   "source": []
  },
  {
   "cell_type": "code",
   "execution_count": null,
   "metadata": {},
   "outputs": [],
   "source": []
  }
 ],
 "metadata": {
  "kernelspec": {
   "display_name": "Python 3",
   "language": "python",
   "name": "python3"
  },
  "language_info": {
   "codemirror_mode": {
    "name": "ipython",
    "version": 3
   },
   "file_extension": ".py",
   "mimetype": "text/x-python",
   "name": "python",
   "nbconvert_exporter": "python",
   "pygments_lexer": "ipython3",
   "version": "3.7.2"
  }
 },
 "nbformat": 4,
 "nbformat_minor": 5
}
